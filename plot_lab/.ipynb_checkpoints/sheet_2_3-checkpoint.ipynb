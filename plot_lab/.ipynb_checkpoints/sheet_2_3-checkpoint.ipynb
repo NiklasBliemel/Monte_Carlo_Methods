{
 "cells": [
  {
   "cell_type": "code",
   "execution_count": 1,
   "id": "db82d866-1808-44bc-8ad5-d230ef964722",
   "metadata": {},
   "outputs": [],
   "source": [
    "import matplotlib.pyplot as plt\n",
    "from scipy.optimize import curve_fit\n",
    "import struct\n",
    "from pathlib import Path\n",
    "import numpy as np\n",
    "import os"
   ]
  },
  {
   "cell_type": "markdown",
   "id": "8811e6c5-1118-489d-b654-202bcd78640a",
   "metadata": {},
   "source": [
    "# Sheet 2"
   ]
  },
  {
   "cell_type": "code",
   "execution_count": 2,
   "id": "44df3e9c-6c0a-4e24-b758-dc77dcf9cae5",
   "metadata": {},
   "outputs": [
    {
     "data": {
      "image/png": "[encoded data removed]",
      "text/plain": [
       "<Figure size 640x480 with 1 Axes>"
      ]
     },
     "metadata": {},
     "output_type": "display_data"
    }
   ],
   "source": [
    "data = Path(\"energies/energies_t2.0_0\").read_bytes()\n",
    "data_array = np.frombuffer(data, dtype=np.float64)\n",
    "plt.plot(data_array[:1000], linestyle=\"\", marker=\"o\", markersize=1, label=\"markov chain\")\n",
    "plt.title(f\"c = {data_array[-1]:.3e}\")\n",
    "plt.ylabel(\"Energy density e\")\n",
    "plt.xlabel(\"Markov time t\")\n",
    "plt.legend(loc = \"best\")\n",
    "plt.savefig(\"figures/Example.pdf\")"
   ]
  },
  {
   "cell_type": "code",
   "execution_count": 3,
   "id": "1aff428d-7061-46a5-87eb-68172b2d0279",
   "metadata": {},
   "outputs": [
    {
     "name": "stdout",
     "output_type": "stream",
     "text": [
      "Done!!\n"
     ]
    }
   ],
   "source": [
    "for file in os.listdir(\"energies\"):\n",
    "    try:\n",
    "        mean_str = r\"$\\langle e \\rangle$\"\n",
    "        data = Path(\"energies/\" + file).read_bytes()\n",
    "        data_array = np.frombuffer(data, dtype=np.float64)\n",
    "        mean = np.mean(data_array[10000:-1])\n",
    "        plt.plot(data_array[:-1], linestyle=\"\", marker=\"o\", markersize=1, label=\"markov chain\")\n",
    "        plt.hlines(y=mean, xmin=0, xmax=len(data_array)-1, linestyle=\"--\", color=\"r\", label=mean_str)\n",
    "        plt.title(rf\"Specific heat c = {data_array[-1] * 64**2:.4e}; mean energy {mean_str} = {mean:.4e}\")\n",
    "        plt.ylabel(\"Energy density e\")\n",
    "        plt.xlabel(\"Markov time t\")\n",
    "        plt.legend(loc=\"best\")\n",
    "        plt.savefig(\"figures/\" + file + \".png\")\n",
    "        plt.close()\n",
    "    except IsADirectoryError:\n",
    "        pass\n",
    "print(\"Done!!\")"
   ]
  },
  {
   "cell_type": "code",
   "execution_count": 4,
   "id": "d8a0256e-b3e3-46fb-9120-30bca5838412",
   "metadata": {},
   "outputs": [
    {
     "name": "stdout",
     "output_type": "stream",
     "text": [
      "Done!!\n"
     ]
    }
   ],
   "source": [
    "for file in os.listdir(\"magnetizations\"):\n",
    "    try:\n",
    "        mean_str = r\"$\\langle |m| \\rangle$\"\n",
    "        data = Path(\"magnetizations/\" + file).read_bytes()\n",
    "        data_array = np.frombuffer(data, dtype=np.float64)\n",
    "        mean = np.mean(data_array[10000:-1])\n",
    "        plt.plot(data_array[:-1], linestyle=\"\", marker=\"o\", markersize=1, label=\"markov chain\")\n",
    "        plt.hlines(y=mean, xmin=0, xmax=len(data_array)-1, linestyle=\"--\", color=\"r\", label=mean_str)\n",
    "        plt.title(rf\"Susceptibility $\\chi$ = {data_array[-1] * 64**2:.4e}; mean magnetization {mean_str} = {mean:.4e}\")\n",
    "        plt.ylabel(\"Magnetization density |m|\")\n",
    "        plt.xlabel(\"Markov time t\")\n",
    "        plt.legend(loc=\"best\")\n",
    "        plt.savefig(\"figures/\" + file + \".png\")\n",
    "        plt.close()\n",
    "    except IsADirectoryError:\n",
    "        pass\n",
    "print(\"Done!!\")"
   ]
  },
  {
   "cell_type": "markdown",
   "id": "a12874da-f0a4-43fb-a443-128e17369cfc",
   "metadata": {},
   "source": [
    "# Sheet 3"
   ]
  },
  {
   "cell_type": "code",
   "execution_count": 2,
   "id": "002ac803-d063-4475-a0cd-9b6806e0dff4",
   "metadata": {},
   "outputs": [],
   "source": [
    "def fit(x, tau):\n",
    "    return np.exp(-x/tau)\n",
    "\n",
    "def alt_fit(x, a, tau1, tau2):\n",
    "    return a * np.exp(-x/tau1) + (1-a) * np.exp(-x/tau2)"
   ]
  },
  {
   "cell_type": "code",
   "execution_count": 8,
   "id": "67360184-01f1-4035-9489-6ce2d0bbd440",
   "metadata": {},
   "outputs": [
    {
     "ename": "IndexError",
     "evalue": "tuple index out of range",
     "output_type": "error",
     "traceback": [
      "\u001b[31m---------------------------------------------------------------------------\u001b[39m",
      "\u001b[31mIndexError\u001b[39m                                Traceback (most recent call last)",
      "\u001b[36mCell\u001b[39m\u001b[36m \u001b[39m\u001b[32mIn[8]\u001b[39m\u001b[32m, line 6\u001b[39m\n\u001b[32m      4\u001b[39m std = data_array[\u001b[32m1\u001b[39m]\n\u001b[32m      5\u001b[39m data_array = data_array[\u001b[32m2\u001b[39m]\n\u001b[32m----> \u001b[39m\u001b[32m6\u001b[39m popt, pcov = curve_fit(fit, np.arange(\u001b[43mdata_array\u001b[49m\u001b[43m.\u001b[49m\u001b[43mshape\u001b[49m\u001b[43m[\u001b[49m\u001b[32;43m0\u001b[39;49m\u001b[43m]\u001b[49m), data_array)\n\u001b[32m      7\u001b[39m alt_popt, alt_pcov = curve_fit(alt_fit, np.arange(data_array.shape[\u001b[32m0\u001b[39m]), data_array, p0=[\u001b[32m0.5\u001b[39m,\u001b[32m5\u001b[39m,\u001b[32m5\u001b[39m])\n\u001b[32m      8\u001b[39m plt.plot(data_array, linestyle=\u001b[33m\"\u001b[39m\u001b[33m\"\u001b[39m, marker=\u001b[33m\"\u001b[39m\u001b[33mo\u001b[39m\u001b[33m\"\u001b[39m, markersize=\u001b[32m1\u001b[39m)\n",
      "\u001b[31mIndexError\u001b[39m: tuple index out of range"
     ]
    }
   ],
   "source": [
    "data = Path(\"auto_correlations/auto_corr_m_t2.3\").read_bytes()\n",
    "data_array = np.frombuffer(data, dtype=np.float64)\n",
    "tau = data_array[0]\n",
    "std = data_array[1]\n",
    "data_array = data_array[2:]\n",
    "popt, pcov = curve_fit(fit, np.arange(data_array.shape[0]), data_array)\n",
    "alt_popt, alt_pcov = curve_fit(alt_fit, np.arange(data_array.shape[0]), data_array, p0=[0.5,5,5])\n",
    "plt.plot(data_array, linestyle=\"\", marker=\"o\", markersize=1)\n",
    "plt.plot(fit(np.arange(data_array.shape[0]), *popt), linestyle=\"-\", marker=\"\", markersize=1, label=\"exp-fit\")\n",
    "plt.plot(alt_fit(np.arange(data_array.shape[0]), *alt_popt), linestyle=\"-\", marker=\"\", markersize=1, label=\"sum-exp-fit\")\n",
    "plt.title(r\"$\\sigma =$\" + f\"{std:.3e}\" + f\"\\t\" + r\"$\\tau_{int} = $\" + f\"{tau:.3f}\" + f\"\\t\" + r\"$\\tau_{exp-fit} = $\" + f\"{popt[0]:.3f}\")\n",
    "plt.ylabel(r\"autocorrelations $\\rho(t)$\")\n",
    "plt.xlabel(\"time t\")\n",
    "plt.legend(loc=\"best\")\n",
    "plt.show()\n",
    "print(c_xi)\n",
    "print(f\"alt-fit(t) = {alt_popt[0]:.3f} exp(-t/{alt_popt[1]:.3f}) + {-alt_popt[0]+1:.3f} exp(-t/{alt_popt[2]:.3f})\")"
   ]
  },
  {
   "cell_type": "code",
   "execution_count": 8,
   "id": "4cf73119-5c31-4a2d-a081-48f2908c2565",
   "metadata": {},
   "outputs": [
    {
     "name": "stdout",
     "output_type": "stream",
     "text": [
      "Done!!\n"
     ]
    }
   ],
   "source": [
    "for file in os.listdir(\"auto_correlations\"):\n",
    "    try:\n",
    "        data = Path(\"auto_correlations/\" + file).read_bytes()\n",
    "        data_array = np.frombuffer(data, dtype=np.float64)\n",
    "        tau = data_array[0]\n",
    "        std = data_array[1]\n",
    "        data_array = data_array[2:]\n",
    "        popt, pcov = curve_fit(fit, np.arange(data_array.shape[0]), data_array)\n",
    "        alt_popt, alt_pcov = curve_fit(alt_fit, np.arange(data_array.shape[0]), data_array, p0=[0.5,5,5])\n",
    "        plt.plot(data_array, linestyle=\"\", marker=\"o\", markersize=1)\n",
    "        plt.plot(fit(np.arange(data_array.shape[0]), *popt), linestyle=\"-\", marker=\"\", markersize=1, label=\"exp-fit\")\n",
    "        plt.plot(alt_fit(np.arange(data_array.shape[0]), *alt_popt), linestyle=\"-\", marker=\"\", markersize=1, label=\"sum-exp-fit\")\n",
    "        plt.title(r\"$\\sigma =$\" + f\"{std:.3e}\" + f\"\\t\" + r\"$\\tau_{int} = $\" + f\"{tau:.3f}\" + f\"\\t\" + r\"$\\tau_{exp-fit} = $\" + f\"{popt[0]:.3f}\")\n",
    "        plt.ylabel(r\"autocorrelations $\\rho(t)$\")\n",
    "        plt.xlabel(\"time t\")\n",
    "        plt.legend(loc=\"best\")\n",
    "        plt.savefig(\"figures_sheet_3/\" + file + \".png\")\n",
    "        plt.close()\n",
    "    except IsADirectoryError:\n",
    "        pass\n",
    "print(\"Done!!\")"
   ]
  }
 ],
 "metadata": {
  "kernelspec": {
   "display_name": "Python 3 (ipykernel)",
   "language": "python",
   "name": "python3"
  },
  "language_info": {
   "codemirror_mode": {
    "name": "ipython",
    "version": 3
   },
   "file_extension": ".py",
   "mimetype": "text/x-python",
   "name": "python",
   "nbconvert_exporter": "python",
   "pygments_lexer": "ipython3",
   "version": "3.13.3"
  }
 },
 "nbformat": 4,
 "nbformat_minor": 5
}
