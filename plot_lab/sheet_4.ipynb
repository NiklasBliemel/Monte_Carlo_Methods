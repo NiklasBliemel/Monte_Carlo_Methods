{
 "cells": [
  {
   "cell_type": "code",
   "execution_count": 2,
   "id": "b7cdbf20-6bc7-43f2-b173-561c2f4d2f37",
   "metadata": {},
   "outputs": [],
   "source": [
    "import matplotlib.pyplot as plt\n",
    "from scipy.optimize import curve_fit\n",
    "import struct\n",
    "from pathlib import Path\n",
    "import numpy as np\n",
    "import os"
   ]
  },
  {
   "cell_type": "code",
   "execution_count": 3,
   "id": "cb366975-6ab9-4ff1-aba9-a4f1e84ddab0",
   "metadata": {},
   "outputs": [
    {
     "name": "stdout",
     "output_type": "stream",
     "text": [
      "T:0\te:1\tsigma_e:2\tc:3\tsigma_c:4\tm:5\tsigma_m:6\txi:7\tsigma_xi:8\n"
     ]
    }
   ],
   "source": [
    "path = \"sheet_3_data/metropolis.o\"\n",
    "data_metropolis = []\n",
    "\n",
    "print(\"T:0\\te:1\\tsigma_e:2\\tc:3\\tsigma_c:4\\tm:5\\tsigma_m:6\\txi:7\\tsigma_xi:8\")\n",
    "\n",
    "with open(path, \"r\") as file:\n",
    "    for line in file:\n",
    "        data_metropolis.append(line.strip().split(\"\\t\"))\n",
    "\n",
    "data_metropolis = np.array(data_metropolis, dtype=np.float64)"
   ]
  },
  {
   "cell_type": "code",
   "execution_count": 4,
   "id": "ee35cea8-ef62-44e9-b85b-b124d5ed7de7",
   "metadata": {},
   "outputs": [],
   "source": [
    "titles = [\"e\", \"c\", \"m\", \"xi\"]\n",
    "for i in range(1,5):\n",
    "    plt.ylabel(titles[i-1])\n",
    "    plt.xlabel(\"T\")\n",
    "    plt.errorbar(data_metropolis[:,0], data_metropolis[:, 2*i - 1], yerr=data_metropolis[:,2 * i], linestyle=\"\", marker=\".\", markersize=2)\n",
    "    \n",
    "    j = i + i%2\n",
    "    T_c = data_metropolis[np.argmax(data_metropolis[:, 2*j - 1]),0]\n",
    "    plt.vlines(x=T_c,\n",
    "               ymin=np.min(data_metropolis[:, 2*i - 1]),\n",
    "               ymax=np.max(data_metropolis[:, 2*i - 1]),\n",
    "               linestyle=\":\", color=\"r\")\n",
    "    ticks = [x for x in plt.xticks()[0] if abs(x - T_c) > 0.6] + [T_c]\n",
    "    ticks_label = [f\"{float(x):.2f}\" if x != T_c else f\"T_c = {float(T_c):.2f}\" for x in ticks]\n",
    "    plt.xticks(ticks, ticks_label)\n",
    "        \n",
    "    plt.savefig(f\"figures_sheet_4/fig_1_{i}.png\")\n",
    "    plt.close()"
   ]
  },
  {
   "cell_type": "code",
   "execution_count": 6,
   "id": "9440d5b2-43f6-473a-8869-7eb1b97c73ce",
   "metadata": {},
   "outputs": [
    {
     "name": "stdout",
     "output_type": "stream",
     "text": [
      "T:0\te:1\tsigma_e:2\tc:3\tsigma_c:4\tm:5\tsigma_m:6\txi:7\tsigma_xi:8\n"
     ]
    }
   ],
   "source": [
    "path = \"sheet_3_data/wolff.o\"\n",
    "data_wolff = []\n",
    "\n",
    "print(\"T:0\\te:1\\tsigma_e:2\\tc:3\\tsigma_c:4\\tm:5\\tsigma_m:6\\txi:7\\tsigma_xi:8\")\n",
    "\n",
    "with open(path, \"r\") as file:\n",
    "    for line in file:\n",
    "        data_wolff.append(line.strip().split(\"\\t\"))\n",
    "\n",
    "data_wolff = np.array(data_wolff, dtype=np.float64)"
   ]
  },
  {
   "cell_type": "code",
   "execution_count": 7,
   "id": "4d2bb3bb-a458-4e8c-a5e9-4641834a9d79",
   "metadata": {},
   "outputs": [],
   "source": [
    "titles = [\"e\", \"c\", \"m\", r\"$\\chi$\"]\n",
    "for i in range(1,5):\n",
    "    plt.ylabel(titles[i-1])\n",
    "    plt.xlabel(\"T\")\n",
    "    plt.errorbar(data_wolff[:,0], data_wolff[:, 2*i - 1], yerr=data_wolff[:,2 * i], linestyle=\"\", marker=\".\", markersize=2)\n",
    "\n",
    "    j = i + i%2\n",
    "    T_c = data_wolff[np.argmax(data_wolff[:, 2*j - 1]),0]\n",
    "    plt.vlines(x=T_c,\n",
    "               ymin=np.min(data_wolff[:, 2*i - 1]),\n",
    "               ymax=np.max(data_wolff[:, 2*i - 1]),\n",
    "               linestyle=\":\", color=\"r\")\n",
    "    ticks = [x for x in plt.xticks()[0] if abs(x - T_c) > 0.06] + [T_c]\n",
    "    ticks_label = [f\"{float(x):.2f}\" if x != T_c else f\"T_c = {float(T_c):.2f}\" for x in ticks]\n",
    "    plt.xticks(ticks, ticks_label)\n",
    "\n",
    "    plt.savefig(f\"figures_sheet_4/fig_2_{i}.png\")\n",
    "    plt.close()"
   ]
  },
  {
   "cell_type": "code",
   "execution_count": 8,
   "id": "89b05f80-fa5d-4d5b-848f-9b6820db33ef",
   "metadata": {},
   "outputs": [
    {
     "name": "stdout",
     "output_type": "stream",
     "text": [
      "T:0\t<n>/V:1\tsigma_n:2\ttau_e_wolf:3\ttau_m_wolff:4\ttau_e_metro:5\ttau_m_metro:6\n"
     ]
    }
   ],
   "source": [
    "path = \"sheet_3_data/ex_3_4.o\"\n",
    "data_wolff_metro = []\n",
    "\n",
    "print(\"T:0\\t<n>/V:1\\tsigma_n:2\\ttau_e_wolf:3\\ttau_m_wolff:4\\ttau_e_metro:5\\ttau_m_metro:6\")\n",
    "\n",
    "with open(path, \"r\") as file:\n",
    "    for line in file:\n",
    "        data_wolff_metro.append(line.strip().split(\"\\t\"))\n",
    "\n",
    "data_wolff_metro = np.array(data_wolff_metro, dtype=np.float64)"
   ]
  },
  {
   "cell_type": "code",
   "execution_count": 9,
   "id": "60ebd799-ce52-4ff0-9542-a0510e567adf",
   "metadata": {},
   "outputs": [],
   "source": [
    "plt.ylabel(r\"$\\langle n \\rangle / V$\")\n",
    "plt.xlabel(\"T\")\n",
    "plt.errorbar(data_wolff_metro[:,0], data_wolff_metro[:, 1], yerr=data_wolff_metro[:, 2], linestyle=\"\", marker=\".\", markersize=2)\n",
    "plt.savefig(f\"figures_sheet_4/fig_5.png\")\n",
    "plt.close()\n",
    "titles = [\"ttau_e_wolf\", \"tau_m_wolff\", \"tau_e_metro\", \"tau_m_metro\"]\n",
    "for i in range(4):\n",
    "    plt.ylabel(titles[i])\n",
    "    plt.xlabel(\"T\")\n",
    "    plt.plot(data_wolff_metro[:,0], data_wolff_metro[:, i+3], linestyle=\"\", marker=\".\", markersize=5)\n",
    "    plt.savefig(f\"figures_sheet_4/fig_3_{i}.png\")\n",
    "    plt.close()"
   ]
  }
 ],
 "metadata": {
  "kernelspec": {
   "display_name": "Python 3 (ipykernel)",
   "language": "python",
   "name": "python3"
  },
  "language_info": {
   "codemirror_mode": {
    "name": "ipython",
    "version": 3
   },
   "file_extension": ".py",
   "mimetype": "text/x-python",
   "name": "python",
   "nbconvert_exporter": "python",
   "pygments_lexer": "ipython3",
   "version": "3.13.3"
  }
 },
 "nbformat": 4,
 "nbformat_minor": 5
}
